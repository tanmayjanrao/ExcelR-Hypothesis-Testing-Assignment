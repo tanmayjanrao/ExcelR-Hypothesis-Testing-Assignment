{
 "cells": [
  {
   "cell_type": "code",
   "execution_count": 23,
   "id": "319fe43f",
   "metadata": {},
   "outputs": [],
   "source": [
    "from numpy import sqrt\n",
    "from scipy import stats"
   ]
  },
  {
   "cell_type": "code",
   "execution_count": 24,
   "id": "38f918df",
   "metadata": {},
   "outputs": [],
   "source": [
    "# [1] State the hypothesis statement\n",
    " \n",
    "  #Null Hypothesis : The Mean operating cost for a franchise in a week (W) is 4000 i.e mu = 4000\n",
    "\n",
    "  #Alternative hypothesis : Restaurant owners suggests that observed weekly operating costs are higher \n",
    "  #                         and the cost model in no longer accurate. i.e mu> 4000\n",
    "    "
   ]
  },
  {
   "cell_type": "code",
   "execution_count": null,
   "id": "f9200e78",
   "metadata": {},
   "outputs": [],
   "source": []
  },
  {
   "cell_type": "code",
   "execution_count": 25,
   "id": "3b168928",
   "metadata": {
    "scrolled": true
   },
   "outputs": [],
   "source": [
    "# [2] Calculate the Test Statistic\n",
    "    \n",
    "#Formula for test statistics is \n",
    "#  t = (x-mu)/(sigma/sqrt(n))\n"
   ]
  },
  {
   "cell_type": "code",
   "execution_count": 26,
   "id": "dc5bdcfc",
   "metadata": {},
   "outputs": [],
   "source": [
    "x = 3050                  #Sample mean"
   ]
  },
  {
   "cell_type": "code",
   "execution_count": 27,
   "id": "5f2de2e6",
   "metadata": {},
   "outputs": [
    {
     "data": {
      "text/plain": [
       "4000"
      ]
     },
     "execution_count": 27,
     "metadata": {},
     "output_type": "execute_result"
    }
   ],
   "source": [
    "mu = 1000 + 5 * 600\n",
    "mu"
   ]
  },
  {
   "cell_type": "code",
   "execution_count": 28,
   "id": "866c0d3e",
   "metadata": {},
   "outputs": [
    {
     "data": {
      "text/plain": [
       "125"
      ]
     },
     "execution_count": 28,
     "metadata": {},
     "output_type": "execute_result"
    }
   ],
   "source": [
    "sigma = 5 * 25  #(this is the standard deviation of the operating cost based on the number of units produced)\n",
    "sigma"
   ]
  },
  {
   "cell_type": "code",
   "execution_count": 29,
   "id": "243c7b22",
   "metadata": {},
   "outputs": [],
   "source": [
    "n = 25"
   ]
  },
  {
   "cell_type": "code",
   "execution_count": 42,
   "id": "02a49ecf",
   "metadata": {},
   "outputs": [],
   "source": [
    "t = (3050-4000)/(125/sqrt(25))"
   ]
  },
  {
   "cell_type": "code",
   "execution_count": 43,
   "id": "d1b44c57",
   "metadata": {},
   "outputs": [
    {
     "data": {
      "text/plain": [
       "-38.0"
      ]
     },
     "execution_count": 43,
     "metadata": {},
     "output_type": "execute_result"
    }
   ],
   "source": [
    "t"
   ]
  },
  {
   "cell_type": "code",
   "execution_count": 32,
   "id": "86c9781d",
   "metadata": {},
   "outputs": [],
   "source": [
    "# Test Statistic is -38.0\n"
   ]
  },
  {
   "cell_type": "code",
   "execution_count": null,
   "id": "8fe2e314",
   "metadata": {},
   "outputs": [],
   "source": []
  },
  {
   "cell_type": "code",
   "execution_count": 33,
   "id": "e265afaa",
   "metadata": {},
   "outputs": [],
   "source": [
    "# 3. Determine the Critical Value:\n",
    "#Using the alpha level of 5% (α = 0.05), determine the critical value from the standard normal (Z) distribution table.\n"
   ]
  },
  {
   "cell_type": "code",
   "execution_count": 34,
   "id": "40bb4d6d",
   "metadata": {},
   "outputs": [],
   "source": [
    "\n",
    "#  We take a Acceptance Region With the Probability of 0.95 for Standard Normal Distribution\n",
    "#  Here we take right tailed test because the owner claims that mu> 4000 .\n",
    "\n"
   ]
  },
  {
   "cell_type": "code",
   "execution_count": 35,
   "id": "3714da33",
   "metadata": {},
   "outputs": [],
   "source": [
    "aplha = 0.05"
   ]
  },
  {
   "cell_type": "code",
   "execution_count": 36,
   "id": "2cf2ac02",
   "metadata": {},
   "outputs": [
    {
     "data": {
      "text/plain": [
       "1.6448536269514722"
      ]
     },
     "execution_count": 36,
     "metadata": {},
     "output_type": "execute_result"
    }
   ],
   "source": [
    "stats.norm.ppf(1-0.05)     \n",
    "\n",
    "#its a right tailed test because of the problem stated (mu>4000)"
   ]
  },
  {
   "cell_type": "code",
   "execution_count": 37,
   "id": "e130cdac",
   "metadata": {},
   "outputs": [],
   "source": [
    "## right side critical region value will be 1.6448\n"
   ]
  },
  {
   "cell_type": "code",
   "execution_count": null,
   "id": "6744ccd8",
   "metadata": {},
   "outputs": [],
   "source": [
    "\n"
   ]
  },
  {
   "cell_type": "code",
   "execution_count": null,
   "id": "cb056d4b",
   "metadata": {},
   "outputs": [],
   "source": []
  },
  {
   "cell_type": "code",
   "execution_count": 38,
   "id": "1a3c10bb",
   "metadata": {},
   "outputs": [],
   "source": [
    "#[4]. Make a Decision:\n",
    "# Compare the test statistic with the critical value to decide whether to reject the null hypothesis.\n"
   ]
  },
  {
   "cell_type": "code",
   "execution_count": 39,
   "id": "c3696d42",
   "metadata": {},
   "outputs": [],
   "source": [
    "# Test statistic Value = -38.0\n",
    "# Critical Values is 1.6448\n",
    "\n",
    "# Here the test statistic value does not fall within the critical region and therefore we fail to reject null hypothesis\n",
    "\n",
    "# -38.0 does not belongs to critcal region\n",
    "\n",
    "## We reject the alternative hypothesis made by the owner that our model is not accurate and weekly operating costs are higher  \n",
    "\n"
   ]
  },
  {
   "cell_type": "code",
   "execution_count": null,
   "id": "d1ab0485",
   "metadata": {},
   "outputs": [],
   "source": []
  },
  {
   "cell_type": "code",
   "execution_count": 18,
   "id": "f236f12f",
   "metadata": {},
   "outputs": [],
   "source": [
    "#5. Conclusion:\n",
    "#Based on the decision in step 4, conclude whether there is strong evidence to support the restaurant owners' claim that \n",
    "#the weekly operating costs are higher than the model suggests.\n"
   ]
  },
  {
   "cell_type": "code",
   "execution_count": 19,
   "id": "accce276",
   "metadata": {},
   "outputs": [],
   "source": [
    "#Answer  there is no evidence to support the owners claim because the T test value does not belong to the critical region \n",
    "# calculated for right tailed test. if the T test value belonged in the critical region then we reject the null hypothesis \n",
    "# so here the owners cliam for higher weekly operating cost is false and reject it using hypothesis testing."
   ]
  },
  {
   "cell_type": "code",
   "execution_count": null,
   "id": "1fca6190",
   "metadata": {},
   "outputs": [],
   "source": []
  }
 ],
 "metadata": {
  "kernelspec": {
   "display_name": "Python 3 (ipykernel)",
   "language": "python",
   "name": "python3"
  },
  "language_info": {
   "codemirror_mode": {
    "name": "ipython",
    "version": 3
   },
   "file_extension": ".py",
   "mimetype": "text/x-python",
   "name": "python",
   "nbconvert_exporter": "python",
   "pygments_lexer": "ipython3",
   "version": "3.11.5"
  }
 },
 "nbformat": 4,
 "nbformat_minor": 5
}
