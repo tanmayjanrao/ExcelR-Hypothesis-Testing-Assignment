{
 "cells": [
  {
   "cell_type": "code",
   "execution_count": null,
   "id": "b7a17044",
   "metadata": {},
   "outputs": [],
   "source": [
    "# [1]. State the Hypotheses:\n",
    "     \n",
    "    # Null Hypothesis: There is no significance association between the type of smart home device purchased\n",
    "    #                  (Smart Thermostats or Smart Lights) and the customer satisfaction level.\n",
    "    \n",
    "    # Alternative hypothesis: There is a significance association between the type of smart home device purchased\n",
    "    #                  (Smart Thermostats or Smart Lights) and the customer satisfaction level.\n",
    "    "
   ]
  },
  {
   "cell_type": "code",
   "execution_count": 23,
   "id": "f0a02f2f",
   "metadata": {},
   "outputs": [],
   "source": [
    "import pandas as pd\n",
    "import numpy as np\n",
    "from scipy.stats import chi2_contingency\n",
    "\n"
   ]
  },
  {
   "cell_type": "code",
   "execution_count": 27,
   "id": "4d08a610",
   "metadata": {},
   "outputs": [],
   "source": [
    "# 2. Compute the Chi-Square Statistic:\n",
    "    \n",
    "    #observed frequency from the data\n",
    "\n",
    "data = np.array([\n",
    "    [50,70],\n",
    "    [80,100],\n",
    "    [60,90],\n",
    "    [30,50],\n",
    "    [20,50]\n",
    "])"
   ]
  },
  {
   "cell_type": "code",
   "execution_count": null,
   "id": "92fc4eb4",
   "metadata": {},
   "outputs": [],
   "source": []
  },
  {
   "cell_type": "code",
   "execution_count": 28,
   "id": "174a6109",
   "metadata": {},
   "outputs": [
    {
     "data": {
      "text/plain": [
       "Chi2ContingencyResult(statistic=5.638227513227513, pvalue=0.22784371130697179, dof=4, expected_freq=array([[ 48.,  72.],\n",
       "       [ 72., 108.],\n",
       "       [ 60.,  90.],\n",
       "       [ 32.,  48.],\n",
       "       [ 28.,  42.]]))"
      ]
     },
     "execution_count": 28,
     "metadata": {},
     "output_type": "execute_result"
    }
   ],
   "source": [
    "chi2_contingency(data)"
   ]
  },
  {
   "cell_type": "code",
   "execution_count": null,
   "id": "2544cd30",
   "metadata": {},
   "outputs": [],
   "source": [
    "# 3. Determine the Critical Value:\n",
    "Using the significance level (alpha) of 0.05 and the degrees of freedom (which is the number of categories minus 1)\n"
   ]
  },
  {
   "cell_type": "code",
   "execution_count": null,
   "id": "acb6560d",
   "metadata": {},
   "outputs": [],
   "source": [
    "# aplha = 0.05\n",
    "# D.O.F = 4  \n",
    "\n",
    "# If we check on CHI square table on google the Critical value come to 9.488\n",
    "#CRITICAL VALUE = 9.488"
   ]
  },
  {
   "cell_type": "code",
   "execution_count": null,
   "id": "949d22e0",
   "metadata": {},
   "outputs": [],
   "source": []
  },
  {
   "cell_type": "code",
   "execution_count": 32,
   "id": "b208bd93",
   "metadata": {},
   "outputs": [],
   "source": [
    "#4. Make a Decision:\n",
    "#Compare the Chi-Square statistic with the critical value to decide whether to reject the null hypothesis.\n"
   ]
  },
  {
   "cell_type": "code",
   "execution_count": null,
   "id": "0e4b5977",
   "metadata": {},
   "outputs": [],
   "source": [
    "# Here the Chi-Square statistic = (5.6382)\n",
    "# and the Critical value = (9.488)\n",
    "\n",
    "# We fail to reject the Null Hypothesis because the Chi-Square statistic falls into the Acceptance Range."
   ]
  },
  {
   "cell_type": "code",
   "execution_count": null,
   "id": "179813fe",
   "metadata": {},
   "outputs": [],
   "source": []
  },
  {
   "cell_type": "code",
   "execution_count": 33,
   "id": "b8fdfe28",
   "metadata": {},
   "outputs": [],
   "source": [
    "#5.Conclusion"
   ]
  },
  {
   "cell_type": "code",
   "execution_count": null,
   "id": "e3c84a9d",
   "metadata": {},
   "outputs": [],
   "source": [
    "# The Conclusion is that We fail to reject the Null Hypothesis and there is no significance association between the \n",
    "# type of smart home device purchased and the customer satisfaction level."
   ]
  }
 ],
 "metadata": {
  "kernelspec": {
   "display_name": "Python 3 (ipykernel)",
   "language": "python",
   "name": "python3"
  },
  "language_info": {
   "codemirror_mode": {
    "name": "ipython",
    "version": 3
   },
   "file_extension": ".py",
   "mimetype": "text/x-python",
   "name": "python",
   "nbconvert_exporter": "python",
   "pygments_lexer": "ipython3",
   "version": "3.11.5"
  }
 },
 "nbformat": 4,
 "nbformat_minor": 5
}
